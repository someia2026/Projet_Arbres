{
 "cells": [
  {
   "cell_type": "code",
   "execution_count": 22,
   "id": "52dd60d0",
   "metadata": {},
   "outputs": [],
   "source": [
    "import csv\n",
    "with open('data/data_trees.csv', newline='') as f:\n",
    "    reader = csv.reader(f)\n",
    "    data = list(reader)"
   ]
  },
  {
   "cell_type": "code",
   "execution_count": null,
   "id": "3cfde3c5",
   "metadata": {},
   "outputs": [
    {
     "name": "stdout",
     "output_type": "stream",
     "text": [
      "['34835', 'ESP36318', 'AR36318', 'VEG', 'VEGETATION', 'ESP01', 'Arbre', 'ESP151', 'Arbre de voirie', 'ESP237', 'Av La BruyÃ¨re Helbronner au Sq', '5', 'AR36318', 'Prunus', 'serrulata', '', 'Arbre jeune', '', '', '2015', 'Nouveau', '', '', '', '', '', '', '', '', '', 'Grenoble Alpes MÃ©tropole', '', '', '', 'MÃ©tropole de Grenoble', '', '', '45.167098421885385,5.740131798404362']\n",
      "['34836', 'ESP36319', 'AR36319', 'VEG', 'VEGETATION', 'ESP01', 'Arbre', 'ESP151', 'Arbre de voirie', 'ESP237', 'Av La BruyÃ¨re Helbronner au Sq', '5', 'AR36319', 'Prunus', 'serrulata', '', 'Arbre jeune', '', '', '2015', 'Nouveau', '', '', '', '', '', '', '', '', '', 'Grenoble Alpes MÃ©tropole', '', '', '', 'MÃ©tropole de Grenoble', '', '', '45.16710682038838,5.740199792549315']\n"
     ]
    }
   ],
   "source": [
    "with open('data/data_trees.csv', newline='') as f:\n",
    "    reader = csv.reader(f)\n",
    "    data = list(reader)\n",
    "print(data[1])\n",
    "print(data[2]) #afficher les deux premières lignes"
   ]
  },
  {
   "cell_type": "code",
   "execution_count": 3,
   "id": "d7cb6091",
   "metadata": {},
   "outputs": [
    {
     "ename": "NameError",
     "evalue": "name 'csv' is not defined",
     "output_type": "error",
     "traceback": [
      "\u001b[1;31m---------------------------------------------------------------------------\u001b[0m",
      "\u001b[1;31mNameError\u001b[0m                                 Traceback (most recent call last)",
      "Cell \u001b[1;32mIn[3], line 2\u001b[0m\n\u001b[0;32m      1\u001b[0m \u001b[38;5;28;01mwith\u001b[39;00m \u001b[38;5;28mopen\u001b[39m(\u001b[38;5;124m'\u001b[39m\u001b[38;5;124mdata/data_trees.csv\u001b[39m\u001b[38;5;124m'\u001b[39m, newline\u001b[38;5;241m=\u001b[39m\u001b[38;5;124m'\u001b[39m\u001b[38;5;124m'\u001b[39m) \u001b[38;5;28;01mas\u001b[39;00m f:\n\u001b[1;32m----> 2\u001b[0m     reader \u001b[38;5;241m=\u001b[39m csv\u001b[38;5;241m.\u001b[39mreader(f)\n\u001b[0;32m      3\u001b[0m     data \u001b[38;5;241m=\u001b[39m \u001b[38;5;28mlist\u001b[39m(reader)\n\u001b[0;32m      4\u001b[0m \u001b[38;5;28mprint\u001b[39m(data[\u001b[38;5;241m1\u001b[39m])\n",
      "\u001b[1;31mNameError\u001b[0m: name 'csv' is not defined"
     ]
    }
   ],
   "source": [
    "with open('data/data_trees.csv', newline='') as f:\n",
    "    reader = csv.reader(f)\n",
    "    data = list(reader)\n",
    "print(data[1])"
   ]
  },
  {
   "cell_type": "code",
   "execution_count": 7,
   "id": "2391d045",
   "metadata": {},
   "outputs": [
    {
     "ename": "NameError",
     "evalue": "name 'csv' is not defined",
     "output_type": "error",
     "traceback": [
      "\u001b[1;31m---------------------------------------------------------------------------\u001b[0m",
      "\u001b[1;31mNameError\u001b[0m                                 Traceback (most recent call last)",
      "Cell \u001b[1;32mIn[7], line 2\u001b[0m\n\u001b[0;32m      1\u001b[0m \u001b[38;5;28;01mwith\u001b[39;00m \u001b[38;5;28mopen\u001b[39m(\u001b[38;5;124m'\u001b[39m\u001b[38;5;124mdata/data_trees.csv\u001b[39m\u001b[38;5;124m'\u001b[39m, newline\u001b[38;5;241m=\u001b[39m\u001b[38;5;124m'\u001b[39m\u001b[38;5;124m'\u001b[39m) \u001b[38;5;28;01mas\u001b[39;00m f:\n\u001b[1;32m----> 2\u001b[0m     reader \u001b[38;5;241m=\u001b[39m csv\u001b[38;5;241m.\u001b[39mreader(f)\n\u001b[0;32m      3\u001b[0m     data \u001b[38;5;241m=\u001b[39m \u001b[38;5;28mlist\u001b[39m(reader)\n\u001b[0;32m      4\u001b[0m \u001b[38;5;28;01mfor\u001b[39;00m row \u001b[38;5;129;01min\u001b[39;00m data:\n",
      "\u001b[1;31mNameError\u001b[0m: name 'csv' is not defined"
     ]
    }
   ],
   "source": [
    "with open('data/data_trees.csv', newline='') as f:\n",
    "    reader = csv.reader(f)\n",
    "    data = list(reader)\n",
    "for row in data:\n",
    "    print(row [1]+ \"       \"+ row[2]) #afficher les deux premières colonnes"
   ]
  },
  {
   "cell_type": "code",
   "execution_count": null,
   "id": "b626be01",
   "metadata": {},
   "outputs": [
    {
     "ename": "ValueError",
     "evalue": "too many values to unpack (expected 2)",
     "output_type": "error",
     "traceback": [
      "\u001b[1;31m---------------------------------------------------------------------------\u001b[0m",
      "\u001b[1;31mValueError\u001b[0m                                Traceback (most recent call last)",
      "Cell \u001b[1;32mIn[43], line 5\u001b[0m\n\u001b[0;32m      3\u001b[0m     data \u001b[38;5;241m=\u001b[39m \u001b[38;5;28mlist\u001b[39m(reader)\n\u001b[0;32m      4\u001b[0m     list_plant\u001b[38;5;241m=\u001b[39m row[\u001b[38;5;241m20\u001b[39m]\n\u001b[1;32m----> 5\u001b[0m \u001b[38;5;28;01mfor\u001b[39;00m index, row \u001b[38;5;129;01min\u001b[39;00m data:\n\u001b[0;32m      6\u001b[0m     list_plant\u001b[38;5;241m.\u001b[39mappend(list_plant)\n\u001b[0;32m      7\u001b[0m \u001b[38;5;28;01mreturn\u001b[39;00m(list_plantation)\n",
      "\u001b[1;31mValueError\u001b[0m: too many values to unpack (expected 2)"
     ]
    }
   ],
   "source": [
    "with open('data/data_trees.csv', newline='') as f:\n",
    "    reader = csv.reader(f)\n",
    "    data = list(reader)\n",
    "for element in data:\n",
    "    list_plant.append(list_plant)\n",
    "return (list_plantation) "
   ]
  },
  {
   "cell_type": "code",
   "execution_count": null,
   "id": "6e023b41",
   "metadata": {},
   "outputs": [],
   "source": [
    "with open('data/data_trees.csv', newline='') as f:\n",
    "    reader = csv.reader(f)\n",
    "    data = list(reader)\n",
    "for element in range(len(data)):\n",
    "    print(data,data[element][2])"
   ]
  },
  {
   "cell_type": "code",
   "execution_count": 4,
   "id": "0c837126",
   "metadata": {},
   "outputs": [
    {
     "ename": "NameError",
     "evalue": "name 'csv' is not defined",
     "output_type": "error",
     "traceback": [
      "\u001b[1;31m---------------------------------------------------------------------------\u001b[0m",
      "\u001b[1;31mNameError\u001b[0m                                 Traceback (most recent call last)",
      "Cell \u001b[1;32mIn[4], line 2\u001b[0m\n\u001b[0;32m      1\u001b[0m \u001b[38;5;28;01mwith\u001b[39;00m \u001b[38;5;28mopen\u001b[39m(\u001b[38;5;124m'\u001b[39m\u001b[38;5;124mdata/data_trees.csv\u001b[39m\u001b[38;5;124m'\u001b[39m, newline\u001b[38;5;241m=\u001b[39m\u001b[38;5;124m'\u001b[39m\u001b[38;5;124m'\u001b[39m) \u001b[38;5;28;01mas\u001b[39;00m f:\n\u001b[1;32m----> 2\u001b[0m     reader \u001b[38;5;241m=\u001b[39m csv\u001b[38;5;241m.\u001b[39mreader(f)\n\u001b[0;32m      3\u001b[0m     data \u001b[38;5;241m=\u001b[39m \u001b[38;5;28mlist\u001b[39m(reader)\n\u001b[0;32m      4\u001b[0m \u001b[38;5;28mprint\u001b[39m(data[\u001b[38;5;241m1\u001b[39m])\n",
      "\u001b[1;31mNameError\u001b[0m: name 'csv' is not defined"
     ]
    }
   ],
   "source": [
    "with open('data/data_trees.csv', newline='') as f:\n",
    "    reader = csv.reader(f)\n",
    "    data = list(reader)\n",
    "print(data[1])"
   ]
  },
  {
   "cell_type": "code",
   "execution_count": 8,
   "id": "c98c7aa8",
   "metadata": {},
   "outputs": [
    {
     "ename": "NameError",
     "evalue": "name 'csv' is not defined",
     "output_type": "error",
     "traceback": [
      "\u001b[1;31m---------------------------------------------------------------------------\u001b[0m",
      "\u001b[1;31mNameError\u001b[0m                                 Traceback (most recent call last)",
      "Cell \u001b[1;32mIn[8], line 2\u001b[0m\n\u001b[0;32m      1\u001b[0m \u001b[38;5;28;01mwith\u001b[39;00m \u001b[38;5;28mopen\u001b[39m(\u001b[38;5;124m'\u001b[39m\u001b[38;5;124mdata/data_trees.csv\u001b[39m\u001b[38;5;124m'\u001b[39m, newline\u001b[38;5;241m=\u001b[39m\u001b[38;5;124m'\u001b[39m\u001b[38;5;124m'\u001b[39m) \u001b[38;5;28;01mas\u001b[39;00m f:\n\u001b[1;32m----> 2\u001b[0m     reader \u001b[38;5;241m=\u001b[39m csv\u001b[38;5;241m.\u001b[39mreader(f)\n\u001b[0;32m      3\u001b[0m     data \u001b[38;5;241m=\u001b[39m \u001b[38;5;28mlist\u001b[39m(reader)\n\u001b[0;32m      4\u001b[0m \u001b[38;5;28mprint\u001b[39m(data[\u001b[38;5;241m1\u001b[39m])\n",
      "\u001b[1;31mNameError\u001b[0m: name 'csv' is not defined"
     ]
    }
   ],
   "source": [
    "with open('data/data_trees.csv', newline='') as f:\n",
    "    reader = csv.reader(f)\n",
    "    data = list(reader)\n",
    "print(data[1])"
   ]
  },
  {
   "cell_type": "code",
   "execution_count": 9,
   "id": "ae0c6d42",
   "metadata": {},
   "outputs": [],
   "source": [
    "import csv\n",
    "with open('data/data_trees.csv', newline='') as f:\n",
    "    reader = csv.reader(f)\n",
    "    data = list(reader)"
   ]
  },
  {
   "cell_type": "code",
   "execution_count": 10,
   "id": "203615bc",
   "metadata": {},
   "outputs": [
    {
     "name": "stdout",
     "output_type": "stream",
     "text": [
      "['34835', 'ESP36318', 'AR36318', 'VEG', 'VEGETATION', 'ESP01', 'Arbre', 'ESP151', 'Arbre de voirie', 'ESP237', 'Av La Bruyère Helbronner au Sq', '5', 'AR36318', 'Prunus', 'serrulata', '', 'Arbre jeune', '', '', '2015', 'Nouveau', '', '', '', '', '', '', '', '', '', 'Grenoble Alpes Métropole', '', '', '', 'Métropole de Grenoble', '', '', '45.167098421885385,5.740131798404362']\n"
     ]
    }
   ],
   "source": [
    "with open('data/data_trees.csv', newline='') as f:\n",
    "    reader = csv.reader(f)\n",
    "    data = list(reader)\n",
    "print(data[1])"
   ]
  },
  {
   "cell_type": "code",
   "execution_count": 27,
   "id": "940741a3",
   "metadata": {},
   "outputs": [
    {
     "name": "stdout",
     "output_type": "stream",
     "text": [
      "['\\ufeffelem_point_id', 'code', 'nom', 'genre', 'genre_desc', 'categorie', 'categorie_desc', 'sous_categorie', 'sous_categorie_desc', 'code_parent', 'code_parent_desc', 'adr_secteur', 'bien_reference', 'genre_bota', 'espece', 'variete', 'stadededeveloppement', 'equipe', 'remarques', 'anneedeplantation', 'raisondeplantation', 'traitementchenilles', 'courrier', 'identifiantplu', 'typeimplantationplu', 'intituleprotectionplu', 'anneeabattage', 'essouchement', 'diametrearbre', 'causeabattage', 'collectivite', 'stationmetro', 'hauteurarbre', 'portarbre', 'structure', 'forme', 'typenature', 'geo_point_2d']\n"
     ]
    }
   ],
   "source": [
    "with open('data/data_trees.csv', newline='') as f:\n",
    "    reader = csv.reader(f)\n",
    "    data = list(reader)\n",
    "print(data[0])\n"
   ]
  },
  {
   "cell_type": "code",
   "execution_count": null,
   "id": "5f1e19d5",
   "metadata": {},
   "outputs": [
    {
     "ename": "TypeError",
     "evalue": "can only concatenate list (not \"str\") to list",
     "output_type": "error",
     "traceback": [
      "\u001b[1;31m---------------------------------------------------------------------------\u001b[0m",
      "\u001b[1;31mTypeError\u001b[0m                                 Traceback (most recent call last)",
      "Cell \u001b[1;32mIn[37], line 5\u001b[0m\n\u001b[0;32m      3\u001b[0m     data \u001b[38;5;241m=\u001b[39m \u001b[38;5;28mlist\u001b[39m(reader)\n\u001b[0;32m      4\u001b[0m \u001b[38;5;28;01mfor\u001b[39;00m element \u001b[38;5;129;01min\u001b[39;00m \u001b[38;5;28mrange\u001b[39m(\u001b[38;5;241m1\u001b[39m):\n\u001b[1;32m----> 5\u001b[0m     \u001b[38;5;28mprint\u001b[39m(data[\u001b[38;5;241m0\u001b[39m]\u001b[38;5;241m+\u001b[39m\u001b[38;5;124m\"\u001b[39m\u001b[38;5;124m \u001b[39m\u001b[38;5;124m\"\u001b[39m\u001b[38;5;241m+\u001b[39m[\u001b[38;5;241m0\u001b[39m])\n",
      "\u001b[1;31mTypeError\u001b[0m: can only concatenate list (not \"str\") to list"
     ]
    }
   ],
   "source": [
    "with open('data/data_trees.csv', newline='') as f:\n",
    "    reader = csv.reader(f)\n",
    "    data = list(reader)\n",
    "for element in range(1):\n",
    "    print(data[0]+\" \"+[0]) #tentative avortée d'afficher le nom des colonnes avec le numéro de position"
   ]
  },
  {
   "cell_type": "code",
   "execution_count": null,
   "id": "7915980c",
   "metadata": {},
   "outputs": [
    {
     "name": "stdout",
     "output_type": "stream",
     "text": [
      "[['\\ufeffelem_point_id', 'code', 'nom', 'genre', 'genre_desc', 'categorie', 'categorie_desc', 'sous_categorie', 'sous_categorie_desc', 'code_parent', 'code_parent_desc', 'adr_secteur', 'bien_reference', 'genre_bota', 'espece', 'variete', 'stadededeveloppement', 'equipe', 'remarques', 'anneedeplantation', 'raisondeplantation', 'traitementchenilles', 'courrier', 'identifiantplu', 'typeimplantationplu', 'intituleprotectionplu', 'anneeabattage', 'essouchement', 'diametrearbre', 'causeabattage', 'collectivite', 'stationmetro', 'hauteurarbre', 'portarbre', 'structure', 'forme', 'typenature', 'geo_point_2d'], ['34835', 'ESP36318', 'AR36318', 'VEG', 'VEGETATION', 'ESP01', 'Arbre', 'ESP151', 'Arbre de voirie', 'ESP237', 'Av La Bruyère Helbronner au Sq', '5', 'AR36318', 'Prunus', 'serrulata', '', 'Arbre jeune', '', '', '2015', 'Nouveau', '', '', '', '', '', '', '', '', '', 'Grenoble Alpes Métropole', '', '', '', 'Métropole de Grenoble', '', '', '45.167098421885385,5.740131798404362'], ['34836', 'ESP36319', 'AR36319', 'VEG', 'VEGETATION', 'ESP01', 'Arbre', 'ESP151', 'Arbre de voirie', 'ESP237', 'Av La Bruyère Helbronner au Sq', '5', 'AR36319', 'Prunus', 'serrulata', '', 'Arbre jeune', '', '', '2015', 'Nouveau', '', '', '', '', '', '', '', '', '', 'Grenoble Alpes Métropole', '', '', '', 'Métropole de Grenoble', '', '', '45.16710682038838,5.740199792549315'], ['34837', 'ESP36320', 'AR36320', 'VEG', 'VEGETATION', 'ESP01', 'Arbre', 'ESP151', 'Arbre de voirie', 'ESP237', 'Av La Bruyère Helbronner au Sq', '5', 'AR36320', 'Prunus', 'serrulata', '', 'Arbre jeune', '', '', '2015', 'Nouveau', '', '', '', '', '', '', '', '', '', 'Grenoble Alpes Métropole', '', '', '', 'Métropole de Grenoble', '', '', '45.167115270975415,5.740265608803635'], ['34838', 'ESP36321', 'AR36321', 'VEG', 'VEGETATION', 'ESP01', 'Arbre', 'ESP151', 'Arbre de voirie', 'ESP237', 'Av La Bruyère Helbronner au Sq', '5', 'AR36321', 'Prunus', 'serrulata', '', 'Arbre jeune', '', '', '2015', 'Nouveau', '', '', '', '', '', '', '', '', '', 'Grenoble Alpes Métropole', '', '', '', 'Métropole de Grenoble', '', '', '45.16712715617142,5.740349032579623'], ['34839', 'ESP36322', 'AR36322', 'VEG', 'VEGETATION', 'ESP01', 'Arbre', 'ESP151', 'Arbre de voirie', 'ESP237', 'Av La Bruyère Helbronner au Sq', '5', 'AR36322', 'Prunus', 'serrulata', '', 'Arbre jeune', '', '', '2015', 'Nouveau', '', '', '', '', '', '', '', '', '', 'Grenoble Alpes Métropole', '', '', '', 'Métropole de Grenoble', '', '', '45.167144245872265,5.740471081600832'], ['34840', 'ESP36323', 'AR36323', 'VEG', 'VEGETATION', 'ESP01', 'Arbre', 'ESP151', 'Arbre de voirie', 'ESP237', 'Av La Bruyère Helbronner au Sq', '5', 'AR36323', 'Prunus', 'serrulata', '', 'Arbre jeune', '', '', '2015', 'Nouveau', '', '', '', '', '', '', '', '', '', 'Grenoble Alpes Métropole', '', '', '', 'Métropole de Grenoble', '', '', '45.167155890045244,5.740566266972813'], ['34841', 'ESP36324', 'AR36324', 'VEG', 'VEGETATION', 'ESP01', 'Arbre', 'ESP151', 'Arbre de voirie', 'ESP237', 'Av La Bruyère Helbronner au Sq', '5', 'AR36324', 'Prunus', 'serrulata', '', 'Arbre jeune', '', '', '2015', 'Nouveau', '', '', '', '', '', '', '', '', '', 'Grenoble Alpes Métropole', '', '', '', 'Métropole de Grenoble', '', '', '45.167165032554955,5.740635387052583'], ['34842', 'ESP36325', 'AR36325', 'VEG', 'VEGETATION', 'ESP01', 'Arbre', 'ESP151', 'Arbre de voirie', 'ESP237', 'Av La Bruyère Helbronner au Sq', '5', 'AR36325', 'Prunus', 'serrulata', '', 'Arbre jeune', '', '', '2015', 'Nouveau', '', '', '', '', '', '', '', '', '', 'Grenoble Alpes Métropole', '', '', '', 'Métropole de Grenoble', '', '', '45.167175507152855,5.740713292500362'], ['34843', 'ESP36326', 'AR36326', 'VEG', 'VEGETATION', 'ESP01', 'Arbre', 'ESP151', 'Arbre de voirie', 'ESP237', 'Av La Bruyère Helbronner au Sq', '5', 'AR36326', 'Prunus', 'serrulata', '', 'Arbre jeune', '', 'cépée', '2015', 'Nouveau', '', '', '', '', '', '', '', '', '', 'Grenoble Alpes Métropole', '', '', '', 'Métropole de Grenoble', 'Cépée', '', '45.16718605989916,5.7407879311073895'], ['34844', 'ESP36327', 'AR36327', 'VEG', 'VEGETATION', 'ESP01', 'Arbre', 'ESP151', 'Arbre de voirie', 'ESP237', 'Av La Bruyère Helbronner au Sq', '5', 'AR36327', 'Prunus', 'serrulata', '', 'Arbre jeune', '', '', '2015', 'Nouveau', '', '', '', '', '', '', '', '', '', 'Grenoble Alpes Métropole', '', '', '', 'Métropole de Grenoble', '', '', '45.167195894402155,5.740860354978608'], ['34845', 'ESP36328', 'AR36328', 'VEG', 'VEGETATION', 'ESP01', 'Arbre', 'ESP151', 'Arbre de voirie', 'ESP237', 'Av La Bruyère Helbronner au Sq', '5', 'AR36328', 'Prunus', 'serrulata', '', 'Arbre jeune', '', '', '2015', 'Nouveau', '', '', '', '', '', '', '', '', '', 'Grenoble Alpes Métropole', '', '', '', 'Métropole de Grenoble', '', '', '45.16720403178738,5.740939238912734'], ['34846', 'ESP36329', 'AR36329', 'VEG', 'VEGETATION', 'ESP01', 'Arbre', 'ESP151', 'Arbre de voirie', 'ESP237', 'Av La Bruyère Helbronner au Sq', '5', 'AR36329', 'Prunus', 'serrulata', '', 'Arbre jeune', '', '', '2015', 'Nouveau', '', '', '', '', '', '', '', '', '', 'Grenoble Alpes Métropole', '', '', '', 'Métropole de Grenoble', '', '', '45.167176468190476,5.741074777117751'], ['16799', 'ESP19333', 'AR19333', 'VEG', 'VEGETATION', 'ESP01', 'Arbre', 'ESP151', 'Arbre de voirie', 'ESP395', 'Ave Fenelon Littré  La Bruyère', '5', 'AR19333', 'Tilia', 'henryana', '', 'Arbre jeune', '', '', '1975', '', '', '', '', '', '', '', '', '', '', 'Grenoble Alpes Métropole', '', 'Moins de 10 m', 'Libre', 'Métropole de Grenoble', '', 'Libre', '45.16734745790881,5.7409722651144675'], ['43307', 'ESP39945', 'AR39945', 'VEG', 'VEGETATION', 'ESP01', 'Arbre', 'ESP174', \"Arbre d'espaces ouverts\", 'ESP1166', 'Chem du tram', '6', 'AR39945', 'Carpinus', 'betulus', '', '', '', '', '', '', '', '', '', '', '', '', '', '', '', 'Grenoble Alpes Métropole', '', '', '', 'Métropole de Grenoble', '', '', '45.162648246758614,5.730963994086281'], ['43308', 'ESP39946', 'AR39946', 'VEG', 'VEGETATION', 'ESP01', 'Arbre', 'ESP174', \"Arbre d'espaces ouverts\", 'ESP1166', 'Chem du tram', '6', 'AR39946', 'Carpinus', 'betulus', '', '', '', '', '', '', '', '', '', '', '', '', '', '', '', 'Grenoble Alpes Métropole', '', '', '', 'Métropole de Grenoble', '', '', '45.162656183471285,5.730988459412491'], ['43309', 'ESP39947', 'AR39947', 'VEG', 'VEGETATION', 'ESP01', 'Arbre', 'ESP174', \"Arbre d'espaces ouverts\", 'ESP1166', 'Chem du tram', '6', 'AR39947', 'Carpinus', 'betulus', '', '', '', '', '', '', '', '', '', '', '', '', '', '', '', 'Grenoble Alpes Métropole', '', '', '', 'Métropole de Grenoble', '', '', '45.162664971709354,5.731011244825317'], ['43311', 'ESP39949', 'AR39949', 'VEG', 'VEGETATION', 'ESP01', 'Arbre', 'ESP174', \"Arbre d'espaces ouverts\", 'ESP1166', 'Chem du tram', '6', 'AR39949', 'Koelreuteria', 'paniculata', '', 'Arbre jeune', '', '', '', '', '', '', '', '', '', '', '', '', '', 'Ville de Grenoble', '', 'Moins de 10 m', 'Libre', 'Ecole', '', 'Libre', '45.17554979034301,5.716798325316716'], ['43312', 'ESP39950', 'AR39950', 'VEG', 'VEGETATION', 'ESP01', 'Arbre', 'ESP174', \"Arbre d'espaces ouverts\", 'ESP1166', 'Chem du tram', '6', 'AR39950', 'Koelreuteria', 'paniculata', '', 'Arbre jeune', '', '', '', '', '', '', '', '', '', '', '', '', '', 'Ville de Grenoble', '', 'Moins de 10 m', 'Libre', 'Ecole', '', 'Libre', '45.17544742287968,5.71676937841446'], ['43362', 'ESP39977', 'AR39977', 'VEG', 'VEGETATION', 'ESP01', 'Arbre', 'ESP174', \"Arbre d'espaces ouverts\", 'ESP759', 'R des trois épis 13 à 20', '6', 'AR39977', 'Carpinus', 'betulus', '', 'Arbre adulte', '', '', '', '', '', '', '', '', '', '', '', '', '', 'Ville de Grenoble', '', 'de 10 m à 20 m', '', 'Ville de Grenoble', '', '', '45.16599552895042,5.7374369160000604'], ['43363', 'ESP39978', 'AR39978', 'VEG', 'VEGETATION', 'ESP01', 'Arbre', 'ESP174', \"Arbre d'espaces ouverts\", 'ESP759', 'R des trois épis 13 à 20', '6', 'AR39978', 'Carpinus', 'betulus', '', 'Arbre adulte', '', '', '', '', '', '', '', '', '', '', '', '', '', 'Grenoble Alpes Métropole', '', 'de 10 m à 20 m', '', 'Métropole de Grenoble', '', '', '45.165995683589074,5.737464734483987'], ['43364', 'ESP39979', 'AR39979', 'VEG', 'VEGETATION', 'ESP01', 'Arbre', 'ESP174', \"Arbre d'espaces ouverts\", 'ESP759', 'R des trois épis 13 à 20', '6', 'AR39979', 'Carpinus', 'betulus', '', 'Arbre adulte', '', '', '', '', '', '', '', '', '', '', '', '', '', 'Grenoble Alpes Métropole', '', 'de 10 m à 20 m', '', 'Métropole de Grenoble', '', '', '45.16599743434285,5.737494367419101'], ['43365', 'ESP39980', 'AR39980', 'VEG', 'VEGETATION', 'ESP01', 'Arbre', 'ESP174', \"Arbre d'espaces ouverts\", 'ESP759', 'R des trois épis 13 à 20', '6', 'AR39980', 'Carpinus', 'betulus', '', 'Arbre adulte', '', '', '', '', '', '', '', '', '', '', '', '', '', 'Grenoble Alpes Métropole', '', 'de 10 m à 20 m', '', 'Métropole de Grenoble', '', '', '45.16599873416824,5.737525717006016'], ['43366', 'ESP39981', 'AR39981', 'VEG', 'VEGETATION', 'ESP01', 'Arbre', 'ESP174', \"Arbre d'espaces ouverts\", 'ESP759', 'R des trois épis 13 à 20', '6', 'AR39981', 'Carpinus', 'betulus', '', 'Arbre adulte', '', '', '', '', '', '', '', '', '', '', '', '', '', 'Grenoble Alpes Métropole', '', 'de 10 m à 20 m', '', 'Métropole de Grenoble', '', '', '45.1659978094467,5.7375986769577425'], ['43367', 'ESP39982', 'AR39982', 'VEG', 'VEGETATION', 'ESP01', 'Arbre', 'ESP174', \"Arbre d'espaces ouverts\", 'ESP759', 'R des trois épis 13 à 20', '6', 'AR39982', 'Carpinus', 'betulus', '', 'Arbre adulte', '', '', '', '', '', '', '', '', '', '', '', '', '', 'Grenoble Alpes Métropole', '', 'de 10 m à 20 m', '', 'Métropole de Grenoble', '', '', '45.16599890740406,5.737621325934942'], ['43368', 'ESP39983', 'AR39983', 'VEG', 'VEGETATION', 'ESP01', 'Arbre', 'ESP174', \"Arbre d'espaces ouverts\", 'ESP759', 'R des trois épis 13 à 20', '6', 'AR39983', 'Carpinus', 'betulus', '', 'Arbre adulte', '', '', '', '', '', '', '', '', '', '', '', '', '', 'Grenoble Alpes Métropole', '', 'de 10 m à 20 m', '', 'Métropole de Grenoble', '', '', '45.16600068579345,5.7376498014031005'], ['15257', 'ESP18449', 'AR18449', 'VEG', 'VEGETATION', 'ESP01', 'Arbre', 'ESP174', \"Arbre d'espaces ouverts\", 'ESP273', 'Parc Paul Valérien Perrin', '1', 'AR18449', 'Betula', 'verrucosa', '', 'Arbre adulte', '', '', '1996', '', '', '', '', '', '', '', '', '', '', 'Ville de Grenoble', '', 'de 10 m à 20 m', 'Libre', 'Ville de Grenoble', '', 'Libre', '45.18297996190778,5.71341585488316'], ['22598', 'ESP28045', 'AR28045', 'VEG', 'VEGETATION', 'ESP01', 'Arbre', 'ESP174', \"Arbre d'espaces ouverts\", 'ESP273', 'Parc Paul Valérien Perrin', '1', 'AR28045', 'Acer', 'campestre', '', 'Arbre adulte', '', '', '1996', '', '', '', '', '', '', '', '', '', '', 'Ville de Grenoble', '', 'de 10 m à 20 m', '', 'Ville de Grenoble', 'Tige', '', '45.18333813657779,5.714259890794556'], ['43382', 'ESP39984', 'AR39984', 'VEG', 'VEGETATION', 'ESP01', 'Arbre', 'ESP174', \"Arbre d'espaces ouverts\", 'ESP273', 'Parc Paul Valérien Perrin', '1', 'AR39984', 'Betula', '', '', 'Arbre adulte', '', '', '', '', '', '', '', '', '', '', '', '', '', 'Ville de Grenoble', '', 'de 10 m à 20 m', '', 'Ville de Grenoble', '', '', '45.18334425965978,5.7142297405817555'], ['43383', 'ESP39985', 'AR39985', 'VEG', 'VEGETATION', 'ESP01', 'Arbre', 'ESP174', \"Arbre d'espaces ouverts\", 'ESP273', 'Parc Paul Valérien Perrin', '1', 'AR39985', 'Fagus', 'sylvatica', '', 'Arbre adulte', '', '', '', '', '', '', '', '', '', '', '', '', '', 'Ville de Grenoble', '', 'de 10 m à 20 m', '', 'Ville de Grenoble', '', '', '45.18332921604555,5.714282455890975'], ['26328', 'ESP12451', 'AR12451', 'VEG', 'VEGETATION', 'ESP01', 'Arbre', 'ESP174', \"Arbre d'espaces ouverts\", 'ESP273', 'Parc Paul Valérien Perrin', '1', 'AR12451', 'Carpinus', 'betulus', '', 'Arbre adulte', '', '', '1996', '', '', '', '', '', '', '', '', '', '', 'Ville de Grenoble', '', 'de 10 m à 20 m', '', 'Ville de Grenoble', '', '', '45.183129655235966,5.713692453681176'], ['36741', 'ESP37249', 'AR37249', 'VEG', 'VEGETATION', 'ESP01', 'Arbre', 'ESP174', \"Arbre d'espaces ouverts\", 'ESP99', \"Sq du Pas de l'aiguille\", '6', 'AR37249', 'Mespilus', 'germanica', '', '', '', '', '2016', 'Nouveau', '', '', '', '', '', '', '', '', '', 'Grenoble Alpes Métropole', '', 'Moins de 10 m', '', 'Métropole de Grenoble', '', '', '45.160356076315296,5.72576188332573'], ['36742', 'ESP37250', 'AR37250', 'VEG', 'VEGETATION', 'ESP01', 'Arbre', 'ESP174', \"Arbre d'espaces ouverts\", 'ESP99', \"Sq du Pas de l'aiguille\", '6', 'AR37250', 'Mespilus', 'germanica', '', '', '', '', '2016', 'Nouveau', '', '', '', '', '', '', '', '', '', 'Grenoble Alpes Métropole', '', 'Moins de 10 m', '', 'Métropole de Grenoble', '', '', '45.16033785837389,5.7256669451910716'], ['36744', 'ESP37252', 'AR37252', 'VEG', 'VEGETATION', 'ESP01', 'Arbre', 'ESP174', \"Arbre d'espaces ouverts\", 'ESP1413', 'Pl Lionel Terray', '6', 'AR37252', 'Crataegus', 'prunifolia', '', '', '', '', '2016', 'Nouveau', '', '', '', '', '', '', '', '', '', 'Grenoble Alpes Métropole', '', 'Moins de 10 m', '', 'Métropole de Grenoble', '', '', '45.163160647240154,5.725587015097533'], ['36745', 'ESP37253', 'AR37253', 'VEG', 'VEGETATION', 'ESP01', 'Arbre', 'ESP174', \"Arbre d'espaces ouverts\", 'ESP470', 'R Christophe Turc', '6', 'AR37253', 'Amélanchier', 'lamarckii', '', '', '', '', '2016', 'Nouveau', '', '', '', '', '', '', '', '', '', 'Grenoble Alpes Métropole', '', 'Moins de 10 m', '', 'Métropole de Grenoble', 'Cépée', '', '45.16270034803411,5.725825637029332'], ['36746', 'ESP37254', 'AR37254', 'VEG', 'VEGETATION', 'ESP01', 'Arbre', 'ESP174', \"Arbre d'espaces ouverts\", 'ESP470', 'R Christophe Turc', '6', 'AR37254', 'Cedrus', 'deodara', '', '', '', '', '2016', 'Nouveau', '', '', '', '', '', '', '', '', '', 'Ville de Grenoble', '', 'Moins de 10 m', '', 'Ville de Grenoble', '', '', '45.16258947220226,5.726009960476289'], ['36747', 'ESP37255', 'AR37255', 'VEG', 'VEGETATION', 'ESP01', 'Arbre', 'ESP174', \"Arbre d'espaces ouverts\", 'ESP217', 'Terrain de proximité Prémol', '6', 'AR37255', 'Halesia', 'carolina', '', '', '', '', '2016', 'Nouveau', '', '', '', '', '', '', '', '', '', 'Grenoble Alpes Métropole', '', 'Moins de 10 m', '', 'Métropole de Grenoble', 'Tige', '', '45.163162231108124,5.727777619292536'], ['40201', 'ESP38892', 'AR38892', 'VEG', 'VEGETATION', 'ESP01', 'Arbre', 'ESP151', 'Arbre de voirie', 'ESP384', 'Av Paul Cocat pair', '5', 'AR38892', '', '', '', 'Arbre jeune', '', '', '2017', 'Nouveau', '', '', '', '', '', '', '', '', '', 'Grenoble Alpes Métropole', '', 'Moins de 10 m', '', 'Métropole de Grenoble', '', '', '45.17208828201465,5.744169297347776'], ['26869', 'ESP22499', 'AR22499', 'VEG', 'VEGETATION', 'ESP01', 'Arbre', 'ESP174', \"Arbre d'espaces ouverts\", 'ESP356', 'Jard Hoche cour des Bossus', '2', 'AR22499', 'Betula', 'alba', '', 'Arbre adulte', '', '', '1978', '', '', '', '', '', '', '', '', '', '', 'Ville de Grenoble', '', 'de 10 m à 20 m', '', 'Ville de Grenoble', '', '', '45.18499012677444,5.728405145716286'], ['40923', 'ESP39133', 'AR39133', 'VEG', 'VEGETATION', 'ESP01', 'Arbre', 'ESP065', \"Arbre d'enceintes fermées\", 'ESP42911', 'Centre Horticole', '38421', 'AR39133', 'Liquidambar', '', '', 'Arbre adulte', '', '', '', '', '', '', '', '', '', '', '', '', '', 'Ville de Grenoble', '', 'de 10 m à 20 m', '', 'Ville de Grenoble', '', '', '45.19422072577709,5.758382557944526'], ['40925', 'ESP39135', 'AR39135', 'VEG', 'VEGETATION', 'ESP01', 'Arbre', 'ESP065', \"Arbre d'enceintes fermées\", 'ESP42911', 'Centre Horticole', '38421', 'AR39135', 'Chamaecyparis', '', '', 'Arbre adulte', '', '', '', '', '', '', '', '', '', '', '', '', '', 'Ville de Grenoble', '', 'Moins de 10 m', 'Libre', 'Ville de Grenoble', '', 'Libre', '45.19444118882156,5.758757950854573'], ['40926', 'ESP39136', 'AR39136', 'VEG', 'VEGETATION', 'ESP01', 'Arbre', 'ESP065', \"Arbre d'enceintes fermées\", 'ESP42911', 'Centre Horticole', '38421', 'AR39136', 'Cedrus', 'atlantica', '', 'Arbre adulte', '', '', '', '', '', '', '', '', '', '', '', '', '', 'Ville de Grenoble', '', 'Plus de 20 m', '', 'Ville de Grenoble', 'Tige', '', '45.19416718427628,5.758019070894689'], ['40927', 'ESP39137', 'AR39137', 'VEG', 'VEGETATION', 'ESP01', 'Arbre', 'ESP065', \"Arbre d'enceintes fermées\", 'ESP42911', 'Centre Horticole', '38421', 'AR39137', 'Cedrus', 'atlantica', '', 'Arbre adulte', '', '', '', '', '', '', '', '', '', '', '', '', '', 'Ville de Grenoble', '', 'Plus de 20 m', '', 'Ville de Grenoble', 'Tige', '', '45.19420229160497,5.758104226536364'], ['40928', 'ESP39138', 'AR39138', 'VEG', 'VEGETATION', 'ESP01', 'Arbre', 'ESP065', \"Arbre d'enceintes fermées\", 'ESP42911', 'Centre Horticole', '38421', 'AR39138', 'Cedrus', 'atlantica', '', 'Arbre adulte', '', '', '', '', '', '', '', '', '', '', '', '', '', 'Ville de Grenoble', '', 'Plus de 20 m', '', 'Ville de Grenoble', 'Tige', '', '45.194178317026584,5.758237543068978'], ['40929', 'ESP39139', 'AR39139', 'VEG', 'VEGETATION', 'ESP01', 'Arbre', 'ESP065', \"Arbre d'enceintes fermées\", 'ESP42911', 'Centre Horticole', '38421', 'AR39139', 'Corylus', 'colurna', '', 'Arbre adulte', '', '', '', '', '', '', '', '', '', '', '', '', '', 'Ville de Grenoble', '', 'de 10 m à 20 m', '', 'Ville de Grenoble', '', '', '45.19422416011384,5.757854112149472'], ['40930', 'ESP39140', 'AR39140', 'VEG', 'VEGETATION', 'ESP01', 'Arbre', 'ESP065', \"Arbre d'enceintes fermées\", 'ESP42911', 'Centre Horticole', '38421', 'AR39140', 'Corylus', 'colurna', '', 'Arbre adulte', '', '', '', '', '', '', '', '', '', '', '', '', '', 'Ville de Grenoble', '', 'de 10 m à 20 m', '', 'Ville de Grenoble', '', '', '45.194190870998,5.75780691251343'], ['40931', 'ESP39141', 'AR39141', 'VEG', 'VEGETATION', 'ESP01', 'Arbre', 'ESP065', \"Arbre d'enceintes fermées\", 'ESP42911', 'Centre Horticole', '38421', 'AR39141', 'Fraxinus', '', '', 'Arbre jeune', '', '', '', '', '', '', '', '', '', '', '', '', '', 'Ville de Grenoble', '', 'Moins de 10 m', '', 'Ville de Grenoble', 'Cépée', '', '45.19424095369691,5.757383498550897'], ['40933', 'ESP39143', 'AR39143', 'VEG', 'VEGETATION', 'ESP01', 'Arbre', 'ESP065', \"Arbre d'enceintes fermées\", 'ESP42911', 'Centre Horticole', '38421', 'AR39143', 'Quercus', '', '', 'Arbre adulte', '', '2 brins mêlés, doute sur essence', '', '', '', '', '', '', '', '', '', '', '', 'Ville de Grenoble', '', 'Moins de 10 m', '', 'Ville de Grenoble', '', '', '45.19437109458014,5.75792455969601'], ['40934', 'ESP39144', 'AR39144', 'VEG', 'VEGETATION', 'ESP01', 'Arbre', 'ESP065', \"Arbre d'enceintes fermées\", 'ESP42911', 'Centre Horticole', '38421', 'AR39144', 'Fraxinus', '', '', 'Arbre adulte', '', '', '', '', '', '', '', '', '', '', '', '', '', 'Ville de Grenoble', '', 'Moins de 10 m', '', 'Ville de Grenoble', '', '', '45.19568221503728,5.7587792689705335'], ['40935', 'ESP39145', 'AR39145', 'VEG', 'VEGETATION', 'ESP01', 'Arbre', 'ESP065', \"Arbre d'enceintes fermées\", 'ESP42911', 'Centre Horticole', '38421', 'AR39145', 'Fraxinus', '', '', 'Arbre adulte', '', '', '', '', '', '', '', '', '', '', '', '', '', 'Ville de Grenoble', '', 'Moins de 10 m', '', 'Ville de Grenoble', '', '', '45.19565805846734,5.758779207433627']]\n"
     ]
    }
   ],
   "source": [
    "with open('data/data_trees.csv', newline='') as f:\n",
    "    reader = csv.reader(f)\n",
    "    data = list(reader)\n",
    "list_exple = [0][0]\n",
    "element=data[:50] #afficher les 50 permières lignes de la dataset\n",
    "\n",
    "print(element)"
   ]
  },
  {
   "cell_type": "code",
   "execution_count": null,
   "id": "2b4a2589",
   "metadata": {},
   "outputs": [
    {
     "name": "stdout",
     "output_type": "stream",
     "text": [
      "['45251', 'ESP41044', 'AR41044', 'VEG', 'VEGETATION', 'ESP01', 'Arbre', 'ESP151', 'Arbre de voirie', 'ESP41038', 'R Aimé Requet Churchill Vercors', '1', 'AR41044', 'Fagus', 'sylvatica', '', '', '', '', '2019', 'Nouveau', '', '', '', '', '', '', '', '', '', 'Grenoble Alpes Métropole', '', 'Moins de 10 m', '', 'Métropole de Grenoble', 'Tige', '', '45.20101260630816,5.707765092568773']\n"
     ]
    }
   ],
   "source": [
    "with open('data/data_trees.csv', newline='') as f:\n",
    "    reader = csv.reader(f)\n",
    "    data = list(reader)\n",
    "element=data[-50]\n",
    "print(element) #afficher les 50 dernières lignes de la dataset"
   ]
  },
  {
   "cell_type": "code",
   "execution_count": null,
   "id": "9d07b18a",
   "metadata": {},
   "outputs": [
    {
     "name": "stdout",
     "output_type": "stream",
     "text": [
      "lignes: 31671\n",
      "colonnes : 38\n"
     ]
    }
   ],
   "source": [
    "with open('data/data_trees.csv', newline='') as f:\n",
    "    reader = csv.reader(f)\n",
    "    data = list(reader)\n",
    "print(\"lignes:\", len(data)) #connaître le nombre de lignes\n",
    "print(\"colonnes :\", len(data[0])) #connaître le nombre de colonnes"
   ]
  },
  {
   "cell_type": "markdown",
   "id": "91a80322",
   "metadata": {},
   "source": [
    "Combien d’arbres sont recensés dans ce jeu de données ?"
   ]
  },
  {
   "cell_type": "code",
   "execution_count": null,
   "id": "c9763ee6",
   "metadata": {},
   "outputs": [
    {
     "name": "stdout",
     "output_type": "stream",
     "text": [
      "31671\n"
     ]
    }
   ],
   "source": [
    "with open('data/data_trees.csv', newline='') as f:\n",
    "    reader = csv.reader(f)\n",
    "    data = list(reader)\n",
    "x = len(data) #le nombre d'arbres recensés dans ce jeu de données"
   ]
  },
  {
   "cell_type": "code",
   "execution_count": null,
   "id": "ea9543d2",
   "metadata": {},
   "outputs": [],
   "source": []
  },
  {
   "cell_type": "markdown",
   "id": "8946b70a",
   "metadata": {},
   "source": [
    "Pour combien d’arbres manque-t-il l’information concernant la date de plantation ? (Vous pouvez essayer de le faire d’au moins deux manières différentes.)"
   ]
  },
  {
   "cell_type": "code",
   "execution_count": 53,
   "id": "91f1f76d",
   "metadata": {},
   "outputs": [
    {
     "name": "stdout",
     "output_type": "stream",
     "text": [
      "0\n"
     ]
    }
   ],
   "source": [
    "with open('data/data_trees.csv', newline='') as f:\n",
    "    reader = csv.reader(f)\n",
    "    data = list(reader)\n",
    "count = data.count(\"\")\n",
    "print(count)\n",
    "#Les arbres manquant l’information concernant la date de plantation"
   ]
  },
  {
   "cell_type": "code",
   "execution_count": null,
   "id": "83169f86",
   "metadata": {},
   "outputs": [
    {
     "ename": "SyntaxError",
     "evalue": "expected '(' (2005505855.py, line 5)",
     "output_type": "error",
     "traceback": [
      "\u001b[1;36m  Cell \u001b[1;32mIn[63], line 5\u001b[1;36m\u001b[0m\n\u001b[1;33m    def missing_info\"\"(\"\"):\u001b[0m\n\u001b[1;37m                    ^\u001b[0m\n\u001b[1;31mSyntaxError\u001b[0m\u001b[1;31m:\u001b[0m expected '('\n"
     ]
    }
   ],
   "source": [
    "with open('data/data_trees.csv', newline='') as f:\n",
    "    reader = csv.reader(f)\n",
    "    data = list(reader)\n",
    "counter = 0\n",
    "def missing_info(\"\"):\n",
    "    for element in data :\n",
    "        for element in ligne:\n",
    "            if element == \"\":\n",
    "                return counter\n",
    "print(missing_info(\"\"), data)\n"
   ]
  }
 ],
 "metadata": {
  "kernelspec": {
   "display_name": "base",
   "language": "python",
   "name": "python3"
  },
  "language_info": {
   "codemirror_mode": {
    "name": "ipython",
    "version": 3
   },
   "file_extension": ".py",
   "mimetype": "text/x-python",
   "name": "python",
   "nbconvert_exporter": "python",
   "pygments_lexer": "ipython3",
   "version": "3.13.5"
  }
 },
 "nbformat": 4,
 "nbformat_minor": 5
}
