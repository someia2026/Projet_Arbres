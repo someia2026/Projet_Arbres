{
 "cells": [
  {
   "cell_type": "code",
   "execution_count": null,
   "id": "3d2a8d57",
   "metadata": {},
   "outputs": [],
   "source": [
    "import pandas as pd\n",
    "df = pd.read_csv(\"data/data_trees.csv\", sep=\",\", header = 0, index_col=False,names=None)"
   ]
  }
 ],
 "metadata": {
  "language_info": {
   "name": "python"
  }
 },
 "nbformat": 4,
 "nbformat_minor": 5
}
